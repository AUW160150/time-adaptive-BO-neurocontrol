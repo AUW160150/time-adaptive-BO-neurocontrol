import numpy as np
import matplotlib.pyplot as plt
import matplotlib.patches as mpatches
from matplotlib.patches import FancyBboxPatch, FancyArrowPatch
from matplotlib.patches import Rectangle

# Set publication style
plt.rcParams['font.size'] = 10
plt.rcParams['font.family'] = 'serif'
plt.rcParams['axes.labelsize'] = 10
plt.rcParams['axes.titlesize'] = 11
plt.rcParams['legend.fontsize'] = 9
plt.rcParams['figure.dpi'] = 300

# ============================================================================
# FIGURE 1: System Architecture Diagram
# ============================================================================

fig1 = plt.figure(figsize=(12, 3.5))

# Left Panel: Neural System
ax1 = plt.subplot(1, 3, 1)
ax1.axis('off')
ax1.set_xlim(0, 10)
ax1.set_ylim(0, 10)

# Brain box
brain_box = FancyBboxPatch((2, 4), 6, 3, boxstyle="round,pad=0.1", 
                           edgecolor='black', facecolor='lightgray', linewidth=2)
ax1.add_patch(brain_box)
ax1.text(5, 5.5, 'Brain/Neural\nSystem', ha='center', va='center', 
         fontsize=11, weight='bold')
ax1.text(5, 3.5, 'Adapts over time', ha='center', va='center', 
         fontsize=8, style='italic')

# Input arrow
arrow_in = FancyArrowPatch((0.5, 5.5), (1.8, 5.5), arrowstyle='->', 
                          mutation_scale=20, linewidth=2, color='black')
ax1.add_patch(arrow_in)
ax1.text(1.1, 6.5, 'Stimulation\nparameters\nx = (I, f, τ)', 
         ha='center', va='bottom', fontsize=9)

# Output arrow
arrow_out = FancyArrowPatch((8.2, 5.5), (9.5, 5.5), arrowstyle='->', 
                           mutation_scale=20, linewidth=2, color='black')
ax1.add_patch(arrow_out)
ax1.text(8.85, 6.5, 'Response\nf(x,t)', ha='center', va='bottom', fontsize=9)

ax1.set_title('(A) Neural System', fontsize=11, weight='bold', loc='left')

# Middle Panel: BO Loop
ax2 = plt.subplot(1, 3, 2)
ax2.axis('off')
ax2.set_xlim(0, 10)
ax2.set_ylim(0, 10)

# Box 1: GP
box1 = Rectangle((1, 7), 8, 1.5, edgecolor='black', facecolor='white', linewidth=1.5)
ax2.add_patch(box1)
ax2.text(5, 7.75, 'Gaussian Process with\ntemporal kernel K((x,t), (x\',t\'))', 
         ha='center', va='center', fontsize=8)

# Arrow down
arrow1 = FancyArrowPatch((5, 7), (5, 5.8), arrowstyle='->', 
                        mutation_scale=15, linewidth=1.5, color='black')
ax2.add_patch(arrow1)

# Box 2: Acquisition
box2 = Rectangle((1, 4.3), 8, 1.5, edgecolor='black', facecolor='white', linewidth=1.5)
ax2.add_patch(box2)
ax2.text(5, 5.05, 'Acquisition Function\nα(x,t) = μ(x,t) - κ·σ(x,t)', 
         ha='center', va='center', fontsize=8)

# Arrow down
arrow2 = FancyArrowPatch((5, 4.3), (5, 3.1), arrowstyle='->', 
                        mutation_scale=15, linewidth=1.5, color='black')
ax2.add_patch(arrow2)

# Box 3: Select
box3 = Rectangle((1, 1.6), 8, 1.5, edgecolor='black', facecolor='white', linewidth=1.5)
ax2.add_patch(box3)
ax2.text(5, 2.35, 'Select next sample\nx_{t+1}', ha='center', va='center', fontsize=8)

# Loop back arrow
arrow_loop = FancyArrowPatch((9.2, 2.35), (9.5, 7.75), arrowstyle='->', 
                            mutation_scale=15, linewidth=1.5, color='blue',
                            connectionstyle="arc3,rad=.5")
ax2.add_patch(arrow_loop)
ax2.text(9.8, 5, 'Loop', ha='left', va='center', fontsize=8, color='blue', rotation=90)

ax2.set_title('(B) BO Loop', fontsize=11, weight='bold', loc='left')

# Right Panel: Forgetting Mechanism
ax3 = plt.subplot(1, 3, 3)
t_diff = np.linspace(0, 20, 200)

# Three curves
epsilon_vals = [0, 0.1, 0.5]
colors = ['black', 'blue', 'red']
labels = ['ε = 0 (no forgetting)', 'ε = 0.1', 'ε = 0.5']

for eps, col, lab in zip(epsilon_vals, colors, labels):
    if eps == 0:
        weight = np.ones_like(t_diff)
    else:
        weight = np.exp(-eps * t_diff)
    ax3.plot(t_diff, weight, color=col, linewidth=2, label=lab)

ax3.set_xlabel('Time difference |t - t\'|')
ax3.set_ylabel('Weight: exp(-ε|t-t\'|)')
ax3.set_xlim(0, 20)
ax3.set_ylim(0, 1.1)
ax3.grid(True, alpha=0.3)
ax3.legend(loc='upper right', frameon=True)
ax3.set_title('(C) Forgetting Mechanism', fontsize=11, weight='bold', loc='left')

plt.tight_layout()
plt.savefig('Figure1_Architecture.png', dpi=300, bbox_inches='tight')
plt.savefig('Figure1_Architecture.pdf', bbox_inches='tight')
print("Figure 1 saved as Figure1_Architecture.png and .pdf")

# ============================================================================
# FIGURE 2: Cumulative Regret vs Iteration
# ============================================================================

fig2, ax = plt.subplots(figsize=(7, 5))

# Parameters
T = 50
t = np.arange(1, T+1)
beta = 0.02
d = 3
sigma_noise = 0.1

# Generate regret curves
# Standard BO: R(T) = sqrt(T log T) + beta*T^2
regret_standard = np.sqrt(t * np.log(t + 1)) + beta * t**2

# Time-aware BO: R(T) = sqrt(T log T) + beta*T
regret_adaptive = np.sqrt(t * np.log(t + 1)) + beta * t

# Oracle (perfect tracking): R(T) = sqrt(T log T)
regret_oracle = np.sqrt(t * np.log(t + 1))

# Plot curves
ax.plot(t, regret_standard, 'k-', linewidth=2.5, label='Standard BO (ε=0)')
ax.plot(t, regret_adaptive, 'b--', linewidth=2.5, label='Time-aware BO (ε=0.067)')
ax.plot(t, regret_oracle, 'r:', linewidth=2.5, label='Oracle (perfect tracking)')

# Formatting
ax.set_xlabel('Iteration (t)', fontsize=11)
ax.set_ylabel('Cumulative Regret R(T)', fontsize=11)
ax.set_xlim(0, 50)
ax.set_ylim(0, 60)
ax.grid(True, alpha=0.3)
ax.legend(loc='upper left', frameon=True, fontsize=10)

# Inset box with parameters
textstr = f'β = {beta} (drift rate)\nd = {d} (dimensions)\nσ_noise = {sigma_noise}'
props = dict(boxstyle='round', facecolor='wheat', alpha=0.8)
ax.text(0.70, 0.35, textstr, transform=ax.transAxes, fontsize=9,
        verticalalignment='top', bbox=props)

ax.set_title('Cumulative Regret Under Different Drift Rates', 
             fontsize=12, weight='bold', pad=10)

plt.tight_layout()
plt.savefig('Figure2_Regret.png', dpi=300, bbox_inches='tight')
plt.savefig('Figure2_Regret.pdf', bbox_inches='tight')
print("Figure 2 saved as Figure2_Regret.png and .pdf")

# ============================================================================
# FIGURE 3: Sensitivity Analysis
# ============================================================================

fig3, ax = plt.subplots(figsize=(7, 5))

# Generate epsilon values
epsilon = np.linspace(0, 0.4, 100)

# Different drift rates
beta_values = [0.01, 0.02, 0.05]
colors = ['green', 'blue', 'red']
labels = ['β = 0.01 (slow)', 'β = 0.02 (moderate)', 'β = 0.05 (fast)']

T_val = 50  # Final iteration

for beta, col, lab in zip(beta_values, colors, labels):
    # Regret depends on mismatch between epsilon and beta
    # When eps << beta: regret ~ O(T^2) (doesn't forget enough)
    # When eps >> beta: regret ~ O(T^1.5) (forgets too much)
    # When eps ≈ beta: regret ~ O(T) (optimal)
    
    mismatch = np.abs(epsilon - beta) / (beta + 0.001)
    base_regret = np.sqrt(T_val * np.log(T_val))
    
    # Penalty for mismatch
    penalty = np.where(epsilon < 0.5 * beta, 
                      beta * T_val**2 * (1 - 2*epsilon/beta),  # Too slow
                      np.where(epsilon > 2 * beta,
                              beta * T_val**1.5 * (epsilon/beta - 1),  # Too fast
                              beta * T_val))  # Just right
    
    regret = base_regret + penalty
    
    ax.plot(epsilon, regret, color=col, linewidth=2.5, label=lab)
    
    # Mark optimal epsilon
    eps_opt = beta
    opt_regret = base_regret + beta * T_val
    ax.plot([eps_opt], [opt_regret], 'o', color=col, markersize=8, 
            markeredgecolor='black', markeredgewidth=1.5)
    ax.axvline(eps_opt, color=col, linestyle='--', linewidth=1, alpha=0.5)

# Shaded robust region (example for beta=0.02)
beta_mid = 0.02
eps_low = 0.5 * beta_mid
eps_high = 2 * beta_mid
ax.axvspan(eps_low, eps_high, alpha=0.15, color='gray', 
           label='Robust region\n(0.5β to 2β for β=0.02)')

# Formatting
ax.set_xlabel('Forgetting factor ε', fontsize=11)
ax.set_ylabel('Cumulative Regret R(50)', fontsize=11)
ax.set_xlim(0, 0.4)
ax.set_ylim(0, 60)
ax.grid(True, alpha=0.3)
ax.legend(loc='upper right', frameon=True, fontsize=9)

ax.set_title('Algorithm Performance Sensitivity to Forgetting Factor', 
             fontsize=12, weight='bold', pad=10)

plt.tight_layout()
plt.savefig('Figure3_Sensitivity.png', dpi=300, bbox_inches='tight')
plt.savefig('Figure3_Sensitivity.pdf', bbox_inches='tight')
print("Figure 3 saved as Figure3_Sensitivity.png and .pdf")

print("\n" + "="*60)
print("All figures generated successfully!")
print("Files created:")
print("  - Figure1_Architecture.png/.pdf")
print("  - Figure2_Regret.png/.pdf")
print("  - Figure3_Sensitivity.png/.pdf")
print("="*60)

plt.show()
